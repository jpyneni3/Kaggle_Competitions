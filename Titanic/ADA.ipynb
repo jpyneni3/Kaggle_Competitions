{
 "cells": [
  {
   "cell_type": "code",
   "execution_count": 7,
   "metadata": {
    "collapsed": true
   },
   "outputs": [],
   "source": [
    "import numpy as np\n",
    "import pandas as pd\n",
    "import matplotlib.pyplot as plt\n",
    "%matplotlib inline\n",
    "import sklearn.ensemble\n",
    "import sklearn.preprocessing\n",
    "from sklearn.neighbors import KNeighborsClassifier\n",
    "from sklearn.ensemble import AdaBoostClassifier\n",
    "from sklearn.svm import SVC\n",
    "from sklearn.naive_bayes import GaussianNB\n",
    "from sklearn.neural_network import MLPClassifier\n",
    "from sklearn.model_selection import train_test_split\n",
    "import seaborn as sns"
   ]
  },
  {
   "cell_type": "code",
   "execution_count": 8,
   "metadata": {
    "collapsed": true
   },
   "outputs": [],
   "source": [
    "#Read in data\n",
    "data = pd.read_csv('train.csv')\n",
    "\n",
    "#Remove attributes that are presumed to be irrelevant\n",
    "data.drop(['Name', 'Ticket', 'Cabin'], axis=1, inplace=True)\n",
    "\n",
    "#Replace strings with their hashes, as sklearn can only handle numeric input\n",
    "data['Sex'] = data['Sex'].map(lambda x: hash(x))\n",
    "data['Embarked'] = data['Embarked'].map(lambda x: hash(x))\n",
    "\n",
    "#Replace missing ages with a placeholder value\n",
    "data.fillna(value=-10, axis=1, inplace=True)"
   ]
  },
  {
   "cell_type": "code",
   "execution_count": 9,
   "metadata": {
    "collapsed": true
   },
   "outputs": [],
   "source": [
    "#Split into training and testing sets\n",
    "(train_data, test_data) = train_test_split(data, test_size=0.1, random_state=67854895) \n",
    "\n",
    "x_train = train_data.drop('Survived', axis=1)\n",
    "y_train = train_data['Survived']\n",
    "\n",
    "x_test = test_data.drop('Survived', axis=1)\n",
    "y_test = test_data['Survived']"
   ]
  },
  {
   "cell_type": "code",
   "execution_count": 10,
   "metadata": {
    "collapsed": true
   },
   "outputs": [],
   "source": [
    "#Returns the classifier's accuracy\n",
    "def accuracy(classifier) -> float:\n",
    "    num_correct = 0\n",
    "    for i in range(len(x_test)):\n",
    "        pred = classifier.predict([x_test.values[i]])[0]\n",
    "        correct = y_test.values[i]\n",
    "        if pred == correct:\n",
    "                num_correct += 1\n",
    "    return num_correct / len(x_test)\n",
    "\n",
    "#Function that returns the false positive and false negative rate of a classifier\n",
    "def false_rates(classifier) -> (float, float):\n",
    "    num_negative = 0\n",
    "    incorrect_negative = 0\n",
    "    num_positive = 0\n",
    "    incorrect_positive = 0\n",
    "    for i in range(len(x_test)):\n",
    "        pred = classifier.predict([x_test.values[i]])[0]\n",
    "        correct = y_test.values[i]\n",
    "        if correct == 0:\n",
    "            num_negative += 1\n",
    "            if pred != correct:\n",
    "                incorrect_negative += 1\n",
    "        else:\n",
    "            num_positive += 1\n",
    "            if pred != correct:\n",
    "                incorrect_positive += 1\n",
    "    fp = 0\n",
    "    if num_negative != 0:\n",
    "        fp = incorrect_negative / num_negative\n",
    "    fn = 0\n",
    "    if num_positive != 0:\n",
    "        fn = incorrect_positive / num_positive\n",
    "    return (fp, fn)"
   ]
  },
  {
   "cell_type": "code",
   "execution_count": 11,
   "metadata": {},
   "outputs": [
    {
     "name": "stdout",
     "output_type": "stream",
     "text": [
      "(0.2, 0.26666666666666666)\n",
      "0.7777777777777778\n"
     ]
    }
   ],
   "source": [
    "classifier = AdaBoostClassifier()\n",
    "classifier.fit(x_train, y_train)\n",
    "print(false_rates(classifier))\n",
    "print(accuracy(classifier))"
   ]
  },
  {
   "cell_type": "code",
   "execution_count": 12,
   "metadata": {
    "collapsed": true
   },
   "outputs": [],
   "source": [
    "test_data = pd.read_csv('test.csv')\n",
    "test_data.drop(['Name', 'Ticket', 'Cabin'], axis=1, inplace=True)\n",
    "test_data['Sex'] = test_data['Sex'].map(lambda x: hash(x))\n",
    "test_data['Embarked'] = test_data['Embarked'].map(lambda x: hash(x))\n",
    "test_data.fillna(value=-10, axis=1, inplace=True)\n",
    "\n",
    "output = [{'PassengerId' : 892 + i, 'Survived' : classifier.predict([test_data.values[i]])[0]} for i in range(len(test_data))]\n",
    "pd.DataFrame(output).to_csv(path_or_buf='ADA_Output.csv', index=False)"
   ]
  }
 ],
 "metadata": {
  "kernelspec": {
   "display_name": "Python 3",
   "language": "python",
   "name": "python3"
  },
  "language_info": {
   "codemirror_mode": {
    "name": "ipython",
    "version": 3
   },
   "file_extension": ".py",
   "mimetype": "text/x-python",
   "name": "python",
   "nbconvert_exporter": "python",
   "pygments_lexer": "ipython3",
   "version": "3.5.0"
  }
 },
 "nbformat": 4,
 "nbformat_minor": 2
}
